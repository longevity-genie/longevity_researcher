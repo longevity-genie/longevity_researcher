{
 "cells": [
  {
   "cell_type": "code",
   "id": "initial_id",
   "metadata": {
    "collapsed": true,
    "ExecuteTime": {
     "end_time": "2024-07-25T21:01:31.778687Z",
     "start_time": "2024-07-25T21:01:31.693224Z"
    }
   },
   "source": [
    "from pathlib import Path\n",
    "import polars as pl\n",
    "from pyc"
   ],
   "outputs": [],
   "execution_count": 6
  },
  {
   "metadata": {
    "ExecuteTime": {
     "end_time": "2024-07-25T21:01:01.932095Z",
     "start_time": "2024-07-25T21:01:01.924761Z"
    }
   },
   "cell_type": "code",
   "source": [
    "base = Path(\"..\").absolute().resolve()\n",
    "base"
   ],
   "id": "c4f5bc1ac9da591",
   "outputs": [
    {
     "data": {
      "text/plain": [
       "PosixPath('/home/antonkulaga/sources/longevity_researcher')"
      ]
     },
     "execution_count": 4,
     "metadata": {},
     "output_type": "execute_result"
    }
   ],
   "execution_count": 4
  },
  {
   "metadata": {
    "ExecuteTime": {
     "end_time": "2024-07-25T21:01:22.280197Z",
     "start_time": "2024-07-25T21:01:22.276497Z"
    }
   },
   "cell_type": "code",
   "source": [
    "data = base / \"data\"\n",
    "input = data / \"input\"\n",
    "output = data / \"output\""
   ],
   "id": "7ff6fe8644ae50ea",
   "outputs": [],
   "execution_count": 5
  },
  {
   "metadata": {},
   "cell_type": "code",
   "outputs": [],
   "execution_count": null,
   "source": "pl.",
   "id": "9903fb2a59d1e488"
  }
 ],
 "metadata": {
  "kernelspec": {
   "display_name": "Python 3",
   "language": "python",
   "name": "python3"
  },
  "language_info": {
   "codemirror_mode": {
    "name": "ipython",
    "version": 2
   },
   "file_extension": ".py",
   "mimetype": "text/x-python",
   "name": "python",
   "nbconvert_exporter": "python",
   "pygments_lexer": "ipython2",
   "version": "2.7.6"
  }
 },
 "nbformat": 4,
 "nbformat_minor": 5
}
