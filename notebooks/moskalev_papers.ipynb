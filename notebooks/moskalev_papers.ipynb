{
 "cells": [
  {
   "cell_type": "code",
   "execution_count": null,
   "id": "initial_id",
   "metadata": {
    "collapsed": true
   },
   "outputs": [],
   "source": [
    "import polars as pl\n",
    "from pathlib import Path\n",
    "from typing import List, Optional\n",
    "\n",
    "def filter_content(df: pl.LazyFrame, terms: List[str]) -> pl.LazyFrame:\n",
    "    regex = r\"(?i)\\b(\" + \"|\".join(terms) + r\")\\b\"\n",
    "    return df.filter(pl.col(\"content_text\").str.contains(regex))\n",
    "\n",
    "def find_doi(df: pl.LazyFrame, doi: str) -> pl.LazyFrame:\n",
    "    return df.filter(pl.col(\"externalids_doi\").str.contains(doi))\n",
    "\n",
    "data = Path(\"/data\")\n",
    "s2orc = data / \"papers\" / \"s2orc\"\n",
    "all_pubmed_file = s2orc / \"all_pubmed.parquet\"\n",
    "all_aging_pubmed_file = s2orc / \"all_aging_pubmed.parquet\"\n",
    "aging_specific_pubmed_file = s2orc / \"aging_specific_pubmed.parquet\"\n",
    "all_moskalev_pubmed_file = s2orc / \"all_moskalev_pubmed.parquet\"\n",
    "\n",
    "# Read the parquet file lazily\n",
    "moskalev = pl.scan_parquet(all_moskalev_pubmed_file)\n",
    "\n",
    "# To get the first row (equivalent to head() in Spark)\n",
    "first_row = moskalev.fetch(1)\n",
    "print(first_row)"
   ]
  }
 ],
 "metadata": {
  "kernelspec": {
   "display_name": "Python 3",
   "language": "python",
   "name": "python3"
  },
  "language_info": {
   "codemirror_mode": {
    "name": "ipython",
    "version": 2
   },
   "file_extension": ".py",
   "mimetype": "text/x-python",
   "name": "python",
   "nbconvert_exporter": "python",
   "pygments_lexer": "ipython2",
   "version": "2.7.6"
  }
 },
 "nbformat": 4,
 "nbformat_minor": 5
}
